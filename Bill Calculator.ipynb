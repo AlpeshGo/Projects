{
 "cells": [
  {
   "cell_type": "code",
   "execution_count": 22,
   "metadata": {},
   "outputs": [
    {
     "name": "stdout",
     "output_type": "stream",
     "text": [
      "What is the cost of your meal: 100\n",
      "How much percent of tip you gave: 5\n",
      "How much of service tax is applicable: 14.5\n",
      "Your bill is: \n",
      "120\n"
     ]
    }
   ],
   "source": [
    "import pandas as pd\n",
    "def solve(meal_cost, tip_percent, tax_percent):\n",
    "\n",
    "    total_cost =  meal_cost + meal_cost * tip_percent/100 + meal_cost * tax_percent/100\n",
    "    print(round(total_cost))\n",
    "if __name__ == '__main__':\n",
    "    meal_cost = float(input(\"What is the cost of your meal: \"))\n",
    "\n",
    "    tip_percent = int(input(\"How much percent of tip you gave: \"))\n",
    "\n",
    "    tax_percent = float(input(\"How much of service tax is applicable: \"))\n",
    "print(\"Your bill is: \") \n",
    "solve(meal_cost, tip_percent, tax_percent)  \n",
    "    "
   ]
  },
  {
   "cell_type": "code",
   "execution_count": null,
   "metadata": {},
   "outputs": [],
   "source": []
  }
 ],
 "metadata": {
  "kernelspec": {
   "display_name": "Python 3",
   "language": "python",
   "name": "python3"
  },
  "language_info": {
   "codemirror_mode": {
    "name": "ipython",
    "version": 3
   },
   "file_extension": ".py",
   "mimetype": "text/x-python",
   "name": "python",
   "nbconvert_exporter": "python",
   "pygments_lexer": "ipython3",
   "version": "3.8.5"
  }
 },
 "nbformat": 4,
 "nbformat_minor": 4
}
