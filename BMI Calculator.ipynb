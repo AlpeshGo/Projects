{
 "cells": [
  {
   "cell_type": "markdown",
   "metadata": {},
   "source": [
    "### This Jupyter Notebook is used for calculating BMI with height in 'feet' and weight in 'kg'."
   ]
  },
  {
   "cell_type": "code",
   "execution_count": 2,
   "metadata": {},
   "outputs": [
    {
     "name": "stdout",
     "output_type": "stream",
     "text": [
      "Enter your name : Alpesh Gorde\n",
      "Enter Alpesh Gorde's height in feet: 5.8\n",
      "Enter Alpesh Gorde's weight in kg: 67\n",
      "You BMI is 21.43822823779879\n",
      "You are fit and healthy\n"
     ]
    }
   ],
   "source": [
    "nam = input(\"Enter your name : \")\n",
    "height = float(input(\"Enter \" + str(nam) + \"'s\"+ \" height in feet: \"))\n",
    "weight = float(input(\"Enter \" + str(nam) + \"'s\" + \" weight in kg: \"))\n",
    "BMI = weight / (height*0.3048)**2\n",
    "print(f\"You BMI is {BMI}\")\n",
    "if BMI <= 18.4:\n",
    "    print(\"You are underweight.\")\n",
    "elif BMI <= 24.9:\n",
    "    print(\"You are fit and healthy\")\n",
    "elif BMI <= 29.9:\n",
    "    print(\"You are over weight.\")\n",
    "elif BMI <= 34.9:\n",
    "    print(\"You are severely over weight.\")\n",
    "elif BMI <= 39.9:\n",
    "    print(\"You are obese.\")\n",
    "else:\n",
    "    print(\"You are severely obese.\")"
   ]
  }
 ],
 "metadata": {
  "kernelspec": {
   "display_name": "Python 3",
   "language": "python",
   "name": "python3"
  },
  "language_info": {
   "codemirror_mode": {
    "name": "ipython",
    "version": 3
   },
   "file_extension": ".py",
   "mimetype": "text/x-python",
   "name": "python",
   "nbconvert_exporter": "python",
   "pygments_lexer": "ipython3",
   "version": "3.8.5"
  }
 },
 "nbformat": 4,
 "nbformat_minor": 4
}
